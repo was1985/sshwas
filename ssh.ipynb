{
  "nbformat": 4,
  "nbformat_minor": 0,
  "metadata": {
    "colab": {
      "name": "Untitled0.ipynb",
      "provenance": [],
      "authorship_tag": "ABX9TyNgqzkMjnmzEI3wC+YRT713",
      "include_colab_link": true
    },
    "kernelspec": {
      "name": "python3",
      "display_name": "Python 3"
    },
    "language_info": {
      "name": "python"
    },
    "accelerator": "GPU"
  },
  "cells": [
    {
      "cell_type": "markdown",
      "metadata": {
        "id": "view-in-github",
        "colab_type": "text"
      },
      "source": [
        "<a href=\"https://colab.research.google.com/github/was1985/sshwas/blob/main/ssh.ipynb\" target=\"_parent\"><img src=\"https://colab.research.google.com/assets/colab-badge.svg\" alt=\"Open In Colab\"/></a>"
      ]
    },
    {
      "cell_type": "code",
      "metadata": {
        "id": "d4L_xllHjw0k"
      },
      "source": [
        "! apt-get update -y\n",
        "! apt-get install -y libpci-dev\n",
        "! apt install screen\n",
        "!pip install colabcode\n",
        "from colabcode import ColabCode\n",
        "\n",
        "\n",
        "ColabCode(port=10000)"
      ],
      "execution_count": null,
      "outputs": []
    }
  ]
}