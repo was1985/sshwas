{
  "nbformat": 4,
  "nbformat_minor": 0,
  "metadata": {
    "colab": {
      "name": "Untitled0.ipynb",
      "provenance": [],
      "authorship_tag": "ABX9TyM3Ygffrd7qJ9h5m3SMlheB",
      "include_colab_link": true
    },
    "kernelspec": {
      "name": "python3",
      "display_name": "Python 3"
    },
    "language_info": {
      "name": "python"
    },
    "accelerator": "GPU"
  },
  "cells": [
    {
      "cell_type": "markdown",
      "metadata": {
        "id": "view-in-github",
        "colab_type": "text"
      },
      "source": [
        "<a href=\"https://colab.research.google.com/github/was1985/sshwas/blob/main/ssh2.ipynb\" target=\"_parent\"><img src=\"https://colab.research.google.com/assets/colab-badge.svg\" alt=\"Open In Colab\"/></a>"
      ]
    },
    {
      "cell_type": "code",
      "metadata": {
        "id": "d4L_xllHjw0k"
      },
      "source": [
        "!nvidia-smi\n",
        "#@title SSH\n",
        "from numba import jit, cuda\n",
        "import numpy as np\n",
        "from timeit import default_timer as timer\n",
        "def func(a):\t\t\t\t\t\t\t\t\n",
        "\tfor i in range(10000000):\n",
        "\t\ta[i]+= 1\t\n",
        "def func2(a):\n",
        "\tfor i in range(10000000):\n",
        "\t\ta[i]+= 1\n",
        "if __name__==\"__main__\":\n",
        "\tn = 10000000\t\t\t\t\t\t\t\n",
        "\ta = np.ones(n, dtype = np.float64)\n",
        "\tb = np.ones(n, dtype = np.float32)\n",
        "\tstart = timer()\n",
        "\tfunc(a)\n",
        "\tprint(timer()-start)\t\n",
        "\tstart = timer()\n",
        "\tfunc2(a)\n",
        "\tprint(timer()-start)\n",
        "import os\n",
        "! apt-get update -y\n",
        "! apt-get install -y libpci-dev\n",
        "! apt install screen\n",
        "username = \"root\" #@param {type:\"string\"}\n",
        "password = \"toot\" #@param {type:\"string\"}\n",
        "os.system(f\"useradd -m {username}\")\n",
        "os.system(f\"adduser {username} sudo\")    \n",
        "os.system(f\"echo '{username}:{password}' | sudo chpasswd\")\n",
        "os.system(\"sed -i 's/\\/bin\\/sh/\\/bin\\/bash/g' /etc/passwd\")\n",
        "! pip install colab_ssh --upgrade &> /dev/null\n",
        "ngrokToken = \"1z5vKGxY2Dwn7Pj6ajYOHt1KeX6_3nBNWf6LChkzQh54ZKfnz\" #@param {type:'string'}\n",
        "from colab_ssh import launch_ssh\n",
        "from IPython.display import clear_output\n",
        "launch_ssh(ngrokToken, password)\n",
        "print(\"ssh\", username, end='@')\n",
        "! curl -s http://localhost:4040/api/tunnels | python3 -c \\\n",
        "        \"import sys, json; print(json.load(sys.stdin)['tunnels'][0]['public_url'][6:].replace(':', ' -p '))\"\n",
        "while True:pass"
      ],
      "execution_count": null,
      "outputs": []
    }
  ]
}